{
 "cells": [
  {
   "cell_type": "markdown",
   "source": [
    "# Extracting Features From the Original Dataset\n",
    "This notebook is used to load my top songs playlists from 2016 to 2022 and store the into a `.cvs` file.\n"
   ],
   "metadata": {
    "collapsed": false
   }
  },
  {
   "cell_type": "code",
   "execution_count": null,
   "outputs": [],
   "source": [
    "# Import libraries\n",
    "import re\n",
    "\n",
    "import pandas as pd\n",
    "import spotipy\n",
    "import spotipy.util as util\n",
    "from tqdm import tqdm"
   ],
   "metadata": {
    "collapsed": false
   }
  },
  {
   "cell_type": "markdown",
   "source": [
    "We use the credentials saved into config.py to input as arguments to `util.prompt_for_user_token`"
   ],
   "metadata": {
    "collapsed": false
   }
  },
  {
   "cell_type": "code",
   "execution_count": null,
   "outputs": [],
   "source": [
    "# File containing credentials\n",
    "import config\n",
    "# Get user authorization to read a user’s saved tracks:\n",
    "token = util.prompt_for_user_token(username='11182181486',\n",
    "                                   scope='user-library-read',\n",
    "                                   client_id=config.cid,\n",
    "                                   client_secret=config.secret,\n",
    "                                   redirect_uri=config.redirect_url)\n",
    "sp = spotipy.Spotify(auth=token)"
   ],
   "metadata": {
    "collapsed": false
   }
  },
  {
   "cell_type": "code",
   "execution_count": null,
   "outputs": [],
   "source": [
    "# Function to retrieve data for each song from Spotify Web API\n",
    "def playlist_df(uri):\n",
    "    ## Extracting Tracks From a Playlist\n",
    "    track_uris = sp.playlist_items(uri)[\"items\"]\n",
    "    ## Create lists to save songs details\n",
    "    artist_name = []\n",
    "    artist_pop = []\n",
    "    artist_genres = []\n",
    "    track_name = []\n",
    "    track_id = []\n",
    "    track_uri = []\n",
    "    popularity = []\n",
    "    # for track in sp.playlist_tracks(uri)[\"items\"]:\n",
    "    for track in track_uris:\n",
    "        # Track URI\n",
    "        track_uri.append(track[\"track\"][\"uri\"])\n",
    "        # Track ID\n",
    "        track_id.append(track[\"track\"]['id'])\n",
    "        # Track name\n",
    "        track_name.append(track[\"track\"][\"name\"])\n",
    "\n",
    "        # Main Artist\n",
    "        artist_uri = track[\"track\"][\"artists\"][0][\"uri\"]\n",
    "        artist_info = sp.artist(artist_uri)\n",
    "        # Name, popularity, genre\n",
    "        artist_name.append(track[\"track\"][\"artists\"][0][\"name\"])\n",
    "        artist_pop.append(artist_info[\"popularity\"])\n",
    "        artist_genres.append(artist_info[\"genres\"])\n",
    "\n",
    "        # Popularity of the track\n",
    "        popularity.append(track[\"track\"][\"popularity\"])\n",
    "\n",
    "    # Create dataframe\n",
    "    tracks_df = pd.DataFrame(\n",
    "        {'artist_name': artist_name, 'artist_pop': artist_pop, 'artist_genres': artist_genres,\n",
    "         'track_name': track_name, 'track_id': track_id, 'track_uri': track_uri, 'popularity': popularity})\n",
    "\n",
    "    # Edit the track-uris to a more usable format\n",
    "    tracks_df[\"track_uri\"] = tracks_df[\"track_uri\"].apply(lambda x: re.findall(r'\\w+$', x)[0])\n",
    "    # Get songs features\n",
    "    feature_list = []\n",
    "    for track in tracks_df[\"track_uri\"]:\n",
    "        feature_list.append(sp.audio_features(track)[0])\n",
    "    # Create DataFrame\n",
    "    feature_df = pd.DataFrame(feature_list)\n",
    "    # Merge dataframes\n",
    "    df = pd.merge(tracks_df, feature_df, left_on=\"track_uri\", right_on=\"id\")\n",
    "    return df"
   ],
   "metadata": {
    "collapsed": false
   }
  },
  {
   "cell_type": "code",
   "execution_count": null,
   "outputs": [],
   "source": [
    "# Load Data into DataFrame for Exploratory Data Analysis\n",
    "# Create empty dataframe that will contain all the details\n",
    "# Import file containing links\n",
    "import playlists\n",
    "data = pd.DataFrame()\n",
    "print(\"Extract songs features from each playlist:\")\n",
    "for key, value in tqdm(playlists.links.items()):\n",
    "    # Get playlists URI\n",
    "    playlist_URI = value.split(\"/\")[-1].split(\"?\")[0]\n",
    "    # Get dataframe with the features of each song\n",
    "    df = playlist_df(value)\n",
    "    # Add column representing year\n",
    "    df['year'] = int(key)\n",
    "    # Add dataframe to data\n",
    "    data = pd.concat([data, df])\n",
    "print(\"Done\")\n",
    "print(data.shape)"
   ],
   "metadata": {
    "collapsed": false
   }
  },
  {
   "cell_type": "code",
   "execution_count": null,
   "outputs": [],
   "source": [
    "data.head()"
   ],
   "metadata": {
    "collapsed": false
   }
  },
  {
   "cell_type": "code",
   "execution_count": null,
   "outputs": [],
   "source": [
    "## Save dataframe as .cvs to data folder\n",
    "data.to_csv('./data/my_top_songs.csv')"
   ],
   "metadata": {
    "collapsed": false
   }
  },
  {
   "cell_type": "markdown",
   "source": [
    "The final cvs file can be found in the data [repository](https://github.com/zpapagianni/Spotify_project/blob/15ecd506ef459e4b20537a0d861286df083929e2/data). Next we will move to Part 2:Exploratory data analysis."
   ],
   "metadata": {
    "collapsed": false
   }
  },
  {
   "cell_type": "code",
   "execution_count": null,
   "outputs": [],
   "source": [],
   "metadata": {
    "collapsed": false
   }
  }
 ],
 "metadata": {
  "kernelspec": {
   "display_name": "Python 3",
   "language": "python",
   "name": "python3"
  },
  "language_info": {
   "codemirror_mode": {
    "name": "ipython",
    "version": 2
   },
   "file_extension": ".py",
   "mimetype": "text/x-python",
   "name": "python",
   "nbconvert_exporter": "python",
   "pygments_lexer": "ipython2",
   "version": "2.7.6"
  }
 },
 "nbformat": 4,
 "nbformat_minor": 0
}
